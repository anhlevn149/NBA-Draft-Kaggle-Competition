{
 "cells": [
  {
   "cell_type": "code",
   "execution_count": 1,
   "id": "d63ce0de-ee54-4330-9d66-46b8a818aaa2",
   "metadata": {
    "tags": []
   },
   "outputs": [],
   "source": [
    "def target_distribution_plot(df, target_col):\n",
    "   \"\"\"\n",
    "   Plot distribution of target values\n",
    "\n",
    "    Parameters\n",
    "    ----------\n",
    "    df : pd.DataFrame\n",
    "        Dataframe\n",
    "    target_col : str\n",
    "        Name of the target variable\n",
    "\n",
    "    Returns\n",
    "    -------\n",
    "    Plot\n",
    "        Bar plot for distribution of target values\n",
    "    \"\"\"\n",
    "   ax = sns.barplot(x=df[target_col].unique(),\n",
    "                                y=df[target_col].value_counts(),\n",
    "                                data=df,\n",
    "                                palette='Spectral'\n",
    "                                )\n",
    "   ax.bar_label(ax.containers[0])"
   ]
  },
  {
   "cell_type": "code",
   "execution_count": null,
   "id": "90fd5a3f-be18-4deb-abf8-9a66a2a26b3f",
   "metadata": {},
   "outputs": [],
   "source": []
  }
 ],
 "metadata": {
  "kernelspec": {
   "display_name": "Python 3 (ipykernel)",
   "language": "python",
   "name": "python3"
  },
  "language_info": {
   "codemirror_mode": {
    "name": "ipython",
    "version": 3
   },
   "file_extension": ".py",
   "mimetype": "text/x-python",
   "name": "python",
   "nbconvert_exporter": "python",
   "pygments_lexer": "ipython3",
   "version": "3.9.13"
  }
 },
 "nbformat": 4,
 "nbformat_minor": 5
}
