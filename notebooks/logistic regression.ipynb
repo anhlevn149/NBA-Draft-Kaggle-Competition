{
 "cells": [
  {
   "cell_type": "markdown",
   "id": "ae4a3582-ef88-446e-b143-7057a4288bf6",
   "metadata": {},
   "source": [
    "# 1. Load the Preprocessed Dataset"
   ]
  },
  {
   "cell_type": "code",
   "execution_count": 15,
   "id": "362ffacc-0fe5-4f11-a5b9-421101f79095",
   "metadata": {
    "tags": []
   },
   "outputs": [
    {
     "name": "stdout",
     "output_type": "stream",
     "text": [
      "The autoreload extension is already loaded. To reload it, use:\n",
      "  %reload_ext autoreload\n"
     ]
    }
   ],
   "source": [
    "# Launch magic commands to automatically reload modules\n",
    "%load_ext autoreload\n",
    "%autoreload 2"
   ]
  },
  {
   "cell_type": "code",
   "execution_count": 16,
   "id": "ea11ac2e-95cb-4319-8761-a514dea3f81f",
   "metadata": {
    "tags": []
   },
   "outputs": [],
   "source": [
    "# Import the pandas, numpy packages and dump from joblib\n",
    "import pandas as pd\n",
    "import numpy as np\n",
    "from joblib import dump"
   ]
  },
  {
   "cell_type": "code",
   "execution_count": 17,
   "id": "24dbbf2f-5ccc-4ef2-b021-39da9278352b",
   "metadata": {
    "tags": []
   },
   "outputs": [],
   "source": [
    "# Load the saved sets from data/processed\n",
    "X_train = pd.read_csv('../data/processed/X_train.csv')\n",
    "X_val   = pd.read_csv('../data/processed/X_val.csv'  )\n",
    "X_test  = pd.read_csv('../data/processed/X_test.csv' )\n",
    "y_train = pd.read_csv('../data/processed/y_train.csv')\n",
    "y_val   = pd.read_csv('../data/processed/y_val.csv'  )"
   ]
  },
  {
   "cell_type": "markdown",
   "id": "ea7ea72f-94c4-400b-acc7-f5249a27df02",
   "metadata": {},
   "source": [
    "# 3. Train Logistic Regression model"
   ]
  },
  {
   "cell_type": "code",
   "execution_count": 18,
   "id": "c5e78e94-c26e-471e-a136-1fb279411215",
   "metadata": {
    "tags": []
   },
   "outputs": [],
   "source": [
    "# Import the logistic regression module from sklearn\n",
    "from sklearn.linear_model import LogisticRegression"
   ]
  },
  {
   "cell_type": "code",
   "execution_count": 19,
   "id": "a996f8aa-202e-432a-957a-80c3bbfacf56",
   "metadata": {
    "tags": []
   },
   "outputs": [],
   "source": [
    "# Instantiate the LogisticRegression class into a variable called reg\n",
    "reg = LogisticRegression()"
   ]
  },
  {
   "cell_type": "code",
   "execution_count": 20,
   "id": "a288141f-9d68-4a4d-a8b7-ee16973cca29",
   "metadata": {
    "tags": []
   },
   "outputs": [
    {
     "name": "stderr",
     "output_type": "stream",
     "text": [
      "C:\\Users\\this\\AppData\\Local\\pypoetry\\Cache\\virtualenvs\\adv-mla-at1-Dk-CNlDi-py3.9\\lib\\site-packages\\sklearn\\utils\\validation.py:1143: DataConversionWarning: A column-vector y was passed when a 1d array was expected. Please change the shape of y to (n_samples, ), for example using ravel().\n",
      "  y = column_or_1d(y, warn=True)\n",
      "C:\\Users\\this\\AppData\\Local\\pypoetry\\Cache\\virtualenvs\\adv-mla-at1-Dk-CNlDi-py3.9\\lib\\site-packages\\sklearn\\linear_model\\_logistic.py:458: ConvergenceWarning: lbfgs failed to converge (status=1):\n",
      "STOP: TOTAL NO. of ITERATIONS REACHED LIMIT.\n",
      "\n",
      "Increase the number of iterations (max_iter) or scale the data as shown in:\n",
      "    https://scikit-learn.org/stable/modules/preprocessing.html\n",
      "Please also refer to the documentation for alternative solver options:\n",
      "    https://scikit-learn.org/stable/modules/linear_model.html#logistic-regression\n",
      "  n_iter_i = _check_optimize_result(\n"
     ]
    },
    {
     "data": {
      "text/html": [
       "<style>#sk-container-id-2 {color: black;background-color: white;}#sk-container-id-2 pre{padding: 0;}#sk-container-id-2 div.sk-toggleable {background-color: white;}#sk-container-id-2 label.sk-toggleable__label {cursor: pointer;display: block;width: 100%;margin-bottom: 0;padding: 0.3em;box-sizing: border-box;text-align: center;}#sk-container-id-2 label.sk-toggleable__label-arrow:before {content: \"▸\";float: left;margin-right: 0.25em;color: #696969;}#sk-container-id-2 label.sk-toggleable__label-arrow:hover:before {color: black;}#sk-container-id-2 div.sk-estimator:hover label.sk-toggleable__label-arrow:before {color: black;}#sk-container-id-2 div.sk-toggleable__content {max-height: 0;max-width: 0;overflow: hidden;text-align: left;background-color: #f0f8ff;}#sk-container-id-2 div.sk-toggleable__content pre {margin: 0.2em;color: black;border-radius: 0.25em;background-color: #f0f8ff;}#sk-container-id-2 input.sk-toggleable__control:checked~div.sk-toggleable__content {max-height: 200px;max-width: 100%;overflow: auto;}#sk-container-id-2 input.sk-toggleable__control:checked~label.sk-toggleable__label-arrow:before {content: \"▾\";}#sk-container-id-2 div.sk-estimator input.sk-toggleable__control:checked~label.sk-toggleable__label {background-color: #d4ebff;}#sk-container-id-2 div.sk-label input.sk-toggleable__control:checked~label.sk-toggleable__label {background-color: #d4ebff;}#sk-container-id-2 input.sk-hidden--visually {border: 0;clip: rect(1px 1px 1px 1px);clip: rect(1px, 1px, 1px, 1px);height: 1px;margin: -1px;overflow: hidden;padding: 0;position: absolute;width: 1px;}#sk-container-id-2 div.sk-estimator {font-family: monospace;background-color: #f0f8ff;border: 1px dotted black;border-radius: 0.25em;box-sizing: border-box;margin-bottom: 0.5em;}#sk-container-id-2 div.sk-estimator:hover {background-color: #d4ebff;}#sk-container-id-2 div.sk-parallel-item::after {content: \"\";width: 100%;border-bottom: 1px solid gray;flex-grow: 1;}#sk-container-id-2 div.sk-label:hover label.sk-toggleable__label {background-color: #d4ebff;}#sk-container-id-2 div.sk-serial::before {content: \"\";position: absolute;border-left: 1px solid gray;box-sizing: border-box;top: 0;bottom: 0;left: 50%;z-index: 0;}#sk-container-id-2 div.sk-serial {display: flex;flex-direction: column;align-items: center;background-color: white;padding-right: 0.2em;padding-left: 0.2em;position: relative;}#sk-container-id-2 div.sk-item {position: relative;z-index: 1;}#sk-container-id-2 div.sk-parallel {display: flex;align-items: stretch;justify-content: center;background-color: white;position: relative;}#sk-container-id-2 div.sk-item::before, #sk-container-id-2 div.sk-parallel-item::before {content: \"\";position: absolute;border-left: 1px solid gray;box-sizing: border-box;top: 0;bottom: 0;left: 50%;z-index: -1;}#sk-container-id-2 div.sk-parallel-item {display: flex;flex-direction: column;z-index: 1;position: relative;background-color: white;}#sk-container-id-2 div.sk-parallel-item:first-child::after {align-self: flex-end;width: 50%;}#sk-container-id-2 div.sk-parallel-item:last-child::after {align-self: flex-start;width: 50%;}#sk-container-id-2 div.sk-parallel-item:only-child::after {width: 0;}#sk-container-id-2 div.sk-dashed-wrapped {border: 1px dashed gray;margin: 0 0.4em 0.5em 0.4em;box-sizing: border-box;padding-bottom: 0.4em;background-color: white;}#sk-container-id-2 div.sk-label label {font-family: monospace;font-weight: bold;display: inline-block;line-height: 1.2em;}#sk-container-id-2 div.sk-label-container {text-align: center;}#sk-container-id-2 div.sk-container {/* jupyter's `normalize.less` sets `[hidden] { display: none; }` but bootstrap.min.css set `[hidden] { display: none !important; }` so we also need the `!important` here to be able to override the default hidden behavior on the sphinx rendered scikit-learn.org. See: https://github.com/scikit-learn/scikit-learn/issues/21755 */display: inline-block !important;position: relative;}#sk-container-id-2 div.sk-text-repr-fallback {display: none;}</style><div id=\"sk-container-id-2\" class=\"sk-top-container\"><div class=\"sk-text-repr-fallback\"><pre>LogisticRegression()</pre><b>In a Jupyter environment, please rerun this cell to show the HTML representation or trust the notebook. <br />On GitHub, the HTML representation is unable to render, please try loading this page with nbviewer.org.</b></div><div class=\"sk-container\" hidden><div class=\"sk-item\"><div class=\"sk-estimator sk-toggleable\"><input class=\"sk-toggleable__control sk-hidden--visually\" id=\"sk-estimator-id-2\" type=\"checkbox\" checked><label for=\"sk-estimator-id-2\" class=\"sk-toggleable__label sk-toggleable__label-arrow\">LogisticRegression</label><div class=\"sk-toggleable__content\"><pre>LogisticRegression()</pre></div></div></div></div></div>"
      ],
      "text/plain": [
       "LogisticRegression()"
      ]
     },
     "execution_count": 20,
     "metadata": {},
     "output_type": "execute_result"
    }
   ],
   "source": [
    "# Fit the model with the prepared data\n",
    "reg.fit(X_train, y_train)"
   ]
  },
  {
   "cell_type": "code",
   "execution_count": 21,
   "id": "46fe3e49-d2e4-44c3-ab51-cfe955daed6b",
   "metadata": {
    "tags": []
   },
   "outputs": [
    {
     "data": {
      "text/plain": [
       "['../models/log_reg.joblib']"
      ]
     },
     "execution_count": 21,
     "metadata": {},
     "output_type": "execute_result"
    }
   ],
   "source": [
    "# Save the fitted model into the folder models as a file called log_reg\n",
    "dump(reg,  '../models/log_reg.joblib')"
   ]
  },
  {
   "cell_type": "markdown",
   "id": "52b280ae-470a-4b88-a682-737e8d12c352",
   "metadata": {},
   "source": [
    "# 4. Model Evaluation"
   ]
  },
  {
   "cell_type": "code",
   "execution_count": 22,
   "id": "9ec9f846-70ea-4adf-89ce-ad174f739d7b",
   "metadata": {},
   "outputs": [],
   "source": [
    "# Prediction probability on the training, validation and testing datasets\n",
    "preds_proba_train = reg.predict_proba(X_train) \n",
    "preds_proba_val = reg.predict_proba(X_val) \n",
    "preds_proba_test = reg.predict_proba(X_test) "
   ]
  },
  {
   "cell_type": "code",
   "execution_count": 23,
   "id": "57021f90-83f4-45c3-896a-6fd94c5f909e",
   "metadata": {},
   "outputs": [],
   "source": [
    "# Keep the prediction probabilities for the drafted variable\n",
    "preds_proba_train = preds_proba_train[:, 1]\n",
    "preds_proba_val = preds_proba_val[:, 1]\n",
    "preds_proba_test = preds_proba_test[:, 1]"
   ]
  },
  {
   "cell_type": "code",
   "execution_count": 24,
   "id": "f4bfbf4a-51b9-4c86-bc49-9afc1c7c5271",
   "metadata": {},
   "outputs": [],
   "source": [
    "# Import the roc_auc_score from scikit-learn to evaluate the model performance\n",
    "from sklearn.metrics import roc_curve, roc_auc_score"
   ]
  },
  {
   "cell_type": "code",
   "execution_count": 25,
   "id": "f04047e3-2758-49dc-8e44-31391a9f93d2",
   "metadata": {},
   "outputs": [
    {
     "data": {
      "text/plain": [
       "0.9874001668651553"
      ]
     },
     "execution_count": 25,
     "metadata": {},
     "output_type": "execute_result"
    }
   ],
   "source": [
    "# Calculate the AUROC score of the validation dataset\n",
    "reg_auc_val = roc_auc_score(y_val, preds_proba_val)\n",
    "reg_auc_val"
   ]
  },
  {
   "cell_type": "code",
   "execution_count": 26,
   "id": "955ce709-67b5-4793-998d-7c370e5d3d6b",
   "metadata": {
    "tags": []
   },
   "outputs": [
    {
     "data": {
      "text/plain": [
       "0.9891360804890494"
      ]
     },
     "execution_count": 26,
     "metadata": {},
     "output_type": "execute_result"
    }
   ],
   "source": [
    "# Calculate the AUROC score of the training dataset\n",
    "reg_auc_train = roc_auc_score(y_train, preds_proba_train)\n",
    "reg_auc_train"
   ]
  },
  {
   "cell_type": "markdown",
   "id": "31b173dc-fc2b-4284-b75a-d963878fa357",
   "metadata": {},
   "source": [
    "As the AUROC scores on training and validation datasets suggest, we can see that there is overfitting issue with the Logistic Regression model."
   ]
  },
  {
   "cell_type": "markdown",
   "id": "5ba0e379-bdc1-4684-9e96-34e5e7c4784a",
   "metadata": {},
   "source": [
    "# 5. Submission File"
   ]
  },
  {
   "cell_type": "code",
   "execution_count": 27,
   "id": "d3b4aab3-18b5-43aa-bf1d-a71acca8292d",
   "metadata": {
    "tags": []
   },
   "outputs": [],
   "source": [
    "# Open the testing dataset and save as df_test_cleaned\n",
    "df_test_cleaned = pd.read_csv('../data/raw/advmla-2023-spring/test.csv')"
   ]
  },
  {
   "cell_type": "code",
   "execution_count": 28,
   "id": "cdd9c3e9-9376-4d76-98d2-df5d0c522417",
   "metadata": {
    "tags": []
   },
   "outputs": [],
   "source": [
    "# Split the column player_id from the df_test_cleaned and save as a variable called player_id\n",
    "player_id = df_test_cleaned.pop('player_id')"
   ]
  },
  {
   "cell_type": "code",
   "execution_count": 30,
   "id": "bb2c69ae-0a41-483b-90c0-c5f85f4147eb",
   "metadata": {
    "tags": []
   },
   "outputs": [
    {
     "data": {
      "text/html": [
       "<div>\n",
       "<style scoped>\n",
       "    .dataframe tbody tr th:only-of-type {\n",
       "        vertical-align: middle;\n",
       "    }\n",
       "\n",
       "    .dataframe tbody tr th {\n",
       "        vertical-align: top;\n",
       "    }\n",
       "\n",
       "    .dataframe thead th {\n",
       "        text-align: right;\n",
       "    }\n",
       "</style>\n",
       "<table border=\"1\" class=\"dataframe\">\n",
       "  <thead>\n",
       "    <tr style=\"text-align: right;\">\n",
       "      <th></th>\n",
       "      <th>player_id</th>\n",
       "      <th>drafted</th>\n",
       "    </tr>\n",
       "  </thead>\n",
       "  <tbody>\n",
       "    <tr>\n",
       "      <th>0</th>\n",
       "      <td>cf302b4d-84f7-4124-a25d-a75eed31978b</td>\n",
       "      <td>1.062179e-08</td>\n",
       "    </tr>\n",
       "    <tr>\n",
       "      <th>1</th>\n",
       "      <td>f91837cd-4f49-4b70-963d-aeb82c6ce3da</td>\n",
       "      <td>2.246725e-07</td>\n",
       "    </tr>\n",
       "    <tr>\n",
       "      <th>2</th>\n",
       "      <td>53ec2a29-1e7d-4c6d-86d7-d60d02af8916</td>\n",
       "      <td>6.998281e-05</td>\n",
       "    </tr>\n",
       "    <tr>\n",
       "      <th>3</th>\n",
       "      <td>32402798-471c-4a54-8cb4-29cd95199014</td>\n",
       "      <td>1.230807e-05</td>\n",
       "    </tr>\n",
       "    <tr>\n",
       "      <th>4</th>\n",
       "      <td>73b960f9-27b8-4431-9d23-a760e9bbc360</td>\n",
       "      <td>7.163723e-03</td>\n",
       "    </tr>\n",
       "    <tr>\n",
       "      <th>...</th>\n",
       "      <td>...</td>\n",
       "      <td>...</td>\n",
       "    </tr>\n",
       "    <tr>\n",
       "      <th>4965</th>\n",
       "      <td>a25ee55f-02a3-4f8e-8194-a5f427e14e7c</td>\n",
       "      <td>5.324087e-12</td>\n",
       "    </tr>\n",
       "    <tr>\n",
       "      <th>4966</th>\n",
       "      <td>d0d9f45e-7b01-44b3-8d40-514ec338611d</td>\n",
       "      <td>2.031356e-06</td>\n",
       "    </tr>\n",
       "    <tr>\n",
       "      <th>4967</th>\n",
       "      <td>f8df22c4-1602-4fab-896d-8820951aae2f</td>\n",
       "      <td>1.069066e-07</td>\n",
       "    </tr>\n",
       "    <tr>\n",
       "      <th>4968</th>\n",
       "      <td>b791c69a-f769-4163-afda-051a6fd20a9d</td>\n",
       "      <td>2.733011e-07</td>\n",
       "    </tr>\n",
       "    <tr>\n",
       "      <th>4969</th>\n",
       "      <td>18b51f5d-4746-4121-88fd-c8d0a1399130</td>\n",
       "      <td>1.728494e-09</td>\n",
       "    </tr>\n",
       "  </tbody>\n",
       "</table>\n",
       "<p>4970 rows × 2 columns</p>\n",
       "</div>"
      ],
      "text/plain": [
       "                                 player_id       drafted\n",
       "0     cf302b4d-84f7-4124-a25d-a75eed31978b  1.062179e-08\n",
       "1     f91837cd-4f49-4b70-963d-aeb82c6ce3da  2.246725e-07\n",
       "2     53ec2a29-1e7d-4c6d-86d7-d60d02af8916  6.998281e-05\n",
       "3     32402798-471c-4a54-8cb4-29cd95199014  1.230807e-05\n",
       "4     73b960f9-27b8-4431-9d23-a760e9bbc360  7.163723e-03\n",
       "...                                    ...           ...\n",
       "4965  a25ee55f-02a3-4f8e-8194-a5f427e14e7c  5.324087e-12\n",
       "4966  d0d9f45e-7b01-44b3-8d40-514ec338611d  2.031356e-06\n",
       "4967  f8df22c4-1602-4fab-896d-8820951aae2f  1.069066e-07\n",
       "4968  b791c69a-f769-4163-afda-051a6fd20a9d  2.733011e-07\n",
       "4969  18b51f5d-4746-4121-88fd-c8d0a1399130  1.728494e-09\n",
       "\n",
       "[4970 rows x 2 columns]"
      ]
     },
     "execution_count": 30,
     "metadata": {},
     "output_type": "execute_result"
    }
   ],
   "source": [
    "# Create a dataframe containing 2 columns: player_id and preds_proba_test. Save as submission\n",
    "submission = pd.DataFrame({'player_id': player_id, 'drafted': list(preds_proba_test)})\n",
    "submission"
   ]
  },
  {
   "cell_type": "code",
   "execution_count": 31,
   "id": "e8fea4ae-1df8-443c-92f4-a2ff082d3637",
   "metadata": {
    "tags": []
   },
   "outputs": [],
   "source": [
    "# Save the submission dataframe to the `notebook` folder as a csv file\n",
    "submission.to_csv('../notebooks/submission.csv', index=False)"
   ]
  }
 ],
 "metadata": {
  "kernelspec": {
   "display_name": "Python 3 (ipykernel)",
   "language": "python",
   "name": "python3"
  },
  "language_info": {
   "codemirror_mode": {
    "name": "ipython",
    "version": 3
   },
   "file_extension": ".py",
   "mimetype": "text/x-python",
   "name": "python",
   "nbconvert_exporter": "python",
   "pygments_lexer": "ipython3",
   "version": "3.9.13"
  }
 },
 "nbformat": 4,
 "nbformat_minor": 5
}
