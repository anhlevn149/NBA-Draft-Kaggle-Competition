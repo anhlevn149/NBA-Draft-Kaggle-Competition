{
 "cells": [
  {
   "cell_type": "markdown",
   "id": "b39fe204-abae-4c7d-b8d9-1478db9e867f",
   "metadata": {
    "tags": []
   },
   "source": [
    "# **Experiment 2 - Classification with Random Forest (cont'd)**\n",
    "\n",
    "\n",
    "In this notebook, we will load the preprocessed data, train the model with Random Forest, try hyperparameter tuning, assess model performance and export the submission file. \n",
    "\n",
    "The steps include:\n",
    "   \n",
    "   1. Load the Preprocessed Dataset\n",
    "   2. Train Random Forest model\n",
    "   3. Model Evaluation\n",
    "   4. Hyperparameter Tuning\n",
    "   5. Export Submission File"
   ]
  },
  {
   "cell_type": "markdown",
   "id": "ae4a3582-ef88-446e-b143-7057a4288bf6",
   "metadata": {},
   "source": [
    "# 1. Load the Preprocessed Dataset"
   ]
  },
  {
   "cell_type": "code",
   "execution_count": 146,
   "id": "362ffacc-0fe5-4f11-a5b9-421101f79095",
   "metadata": {
    "tags": []
   },
   "outputs": [
    {
     "name": "stdout",
     "output_type": "stream",
     "text": [
      "The autoreload extension is already loaded. To reload it, use:\n",
      "  %reload_ext autoreload\n"
     ]
    }
   ],
   "source": [
    "# Launch magic commands to automatically reload modules\n",
    "%load_ext autoreload\n",
    "%autoreload 2"
   ]
  },
  {
   "cell_type": "code",
   "execution_count": 147,
   "id": "6c8ef488-58b5-4fef-90cc-f8ef1cf82c5e",
   "metadata": {},
   "outputs": [
    {
     "name": "stdout",
     "output_type": "stream",
     "text": [
      "Requirement already satisfied: pandas in c:\\users\\this\\appdata\\local\\pypoetry\\cache\\virtualenvs\\adv-mla-at1-dk-cnldi-py3.9\\lib\\site-packages (2.0.1)\n",
      "Requirement already satisfied: python-dateutil>=2.8.2 in c:\\users\\this\\appdata\\local\\pypoetry\\cache\\virtualenvs\\adv-mla-at1-dk-cnldi-py3.9\\lib\\site-packages (from pandas) (2.8.2)\n",
      "Requirement already satisfied: pytz>=2020.1 in c:\\users\\this\\appdata\\local\\pypoetry\\cache\\virtualenvs\\adv-mla-at1-dk-cnldi-py3.9\\lib\\site-packages (from pandas) (2023.3)\n",
      "Requirement already satisfied: numpy>=1.20.3 in c:\\users\\this\\appdata\\local\\pypoetry\\cache\\virtualenvs\\adv-mla-at1-dk-cnldi-py3.9\\lib\\site-packages (from pandas) (1.25.2)\n",
      "Requirement already satisfied: tzdata>=2022.1 in c:\\users\\this\\appdata\\local\\pypoetry\\cache\\virtualenvs\\adv-mla-at1-dk-cnldi-py3.9\\lib\\site-packages (from pandas) (2023.3)\n",
      "Requirement already satisfied: six>=1.5 in c:\\users\\this\\appdata\\local\\pypoetry\\cache\\virtualenvs\\adv-mla-at1-dk-cnldi-py3.9\\lib\\site-packages (from python-dateutil>=2.8.2->pandas) (1.16.0)\n",
      "Note: you may need to restart the kernel to use updated packages.\n"
     ]
    }
   ],
   "source": [
    "pip install pandas"
   ]
  },
  {
   "cell_type": "code",
   "execution_count": 148,
   "id": "21f9110d-11d8-4e3e-9324-b361294e74e4",
   "metadata": {},
   "outputs": [
    {
     "name": "stdout",
     "output_type": "stream",
     "text": [
      "Requirement already satisfied: joblib in c:\\users\\this\\appdata\\local\\pypoetry\\cache\\virtualenvs\\adv-mla-at1-dk-cnldi-py3.9\\lib\\site-packages (1.3.2)\n",
      "Note: you may need to restart the kernel to use updated packages.\n"
     ]
    }
   ],
   "source": [
    "pip install joblib"
   ]
  },
  {
   "cell_type": "code",
   "execution_count": 149,
   "id": "ea11ac2e-95cb-4319-8761-a514dea3f81f",
   "metadata": {
    "tags": []
   },
   "outputs": [],
   "source": [
    "# Import the pandas, numpy packages and dump from joblib\n",
    "import pandas as pd\n",
    "import numpy as np\n",
    "from joblib import dump"
   ]
  },
  {
   "cell_type": "code",
   "execution_count": 150,
   "id": "03012eef-e110-456b-86fc-9c082e014059",
   "metadata": {},
   "outputs": [],
   "source": [
    "# Load the saved sets from data/processed\n",
    "X_train = pd.read_csv('../data/processed/X_train_wk3.csv')\n",
    "X_val   = pd.read_csv('../data/processed/X_val_wk3.csv'  )\n",
    "X_test  = pd.read_csv('../data/processed/X_test_wk3.csv' )\n",
    "y_train = pd.read_csv('../data/processed/y_train_wk3.csv')\n",
    "y_val   = pd.read_csv('../data/processed/y_val_wk3.csv'  )"
   ]
  },
  {
   "cell_type": "markdown",
   "id": "ea7ea72f-94c4-400b-acc7-f5249a27df02",
   "metadata": {},
   "source": [
    "# 2. Train Random Forest model"
   ]
  },
  {
   "cell_type": "code",
   "execution_count": 151,
   "id": "2a2aeebf-a91d-4d71-9cfd-c1c30ede37c0",
   "metadata": {},
   "outputs": [
    {
     "name": "stdout",
     "output_type": "stream",
     "text": [
      "Requirement already satisfied: scikit-learn in c:\\users\\this\\appdata\\local\\pypoetry\\cache\\virtualenvs\\adv-mla-at1-dk-cnldi-py3.9\\lib\\site-packages (1.2.2)\n",
      "Requirement already satisfied: joblib>=1.1.1 in c:\\users\\this\\appdata\\local\\pypoetry\\cache\\virtualenvs\\adv-mla-at1-dk-cnldi-py3.9\\lib\\site-packages (from scikit-learn) (1.3.2)\n",
      "Requirement already satisfied: threadpoolctl>=2.0.0 in c:\\users\\this\\appdata\\local\\pypoetry\\cache\\virtualenvs\\adv-mla-at1-dk-cnldi-py3.9\\lib\\site-packages (from scikit-learn) (3.2.0)\n",
      "Requirement already satisfied: scipy>=1.3.2 in c:\\users\\this\\appdata\\local\\pypoetry\\cache\\virtualenvs\\adv-mla-at1-dk-cnldi-py3.9\\lib\\site-packages (from scikit-learn) (1.9.3)\n",
      "Requirement already satisfied: numpy>=1.17.3 in c:\\users\\this\\appdata\\local\\pypoetry\\cache\\virtualenvs\\adv-mla-at1-dk-cnldi-py3.9\\lib\\site-packages (from scikit-learn) (1.25.2)\n",
      "Note: you may need to restart the kernel to use updated packages.\n"
     ]
    }
   ],
   "source": [
    "pip install scikit-learn"
   ]
  },
  {
   "cell_type": "code",
   "execution_count": 193,
   "id": "c5e78e94-c26e-471e-a136-1fb279411215",
   "metadata": {
    "tags": []
   },
   "outputs": [],
   "source": [
    "# Import RandomForestClassifier method\n",
    "from sklearn.ensemble import RandomForestClassifier"
   ]
  },
  {
   "cell_type": "code",
   "execution_count": 194,
   "id": "a996f8aa-202e-432a-957a-80c3bbfacf56",
   "metadata": {
    "tags": []
   },
   "outputs": [],
   "source": [
    "# Instantiate the RandomForestClassifier method with randon_state=42. Save it as a variable called rf_default\n",
    "rf_default = RandomForestClassifier(random_state=42)"
   ]
  },
  {
   "cell_type": "code",
   "execution_count": 199,
   "id": "16cfb117-6dea-4627-b922-7ecdcf7285fb",
   "metadata": {
    "tags": []
   },
   "outputs": [
    {
     "data": {
      "text/html": [
       "<style>#sk-container-id-14 {color: black;background-color: white;}#sk-container-id-14 pre{padding: 0;}#sk-container-id-14 div.sk-toggleable {background-color: white;}#sk-container-id-14 label.sk-toggleable__label {cursor: pointer;display: block;width: 100%;margin-bottom: 0;padding: 0.3em;box-sizing: border-box;text-align: center;}#sk-container-id-14 label.sk-toggleable__label-arrow:before {content: \"▸\";float: left;margin-right: 0.25em;color: #696969;}#sk-container-id-14 label.sk-toggleable__label-arrow:hover:before {color: black;}#sk-container-id-14 div.sk-estimator:hover label.sk-toggleable__label-arrow:before {color: black;}#sk-container-id-14 div.sk-toggleable__content {max-height: 0;max-width: 0;overflow: hidden;text-align: left;background-color: #f0f8ff;}#sk-container-id-14 div.sk-toggleable__content pre {margin: 0.2em;color: black;border-radius: 0.25em;background-color: #f0f8ff;}#sk-container-id-14 input.sk-toggleable__control:checked~div.sk-toggleable__content {max-height: 200px;max-width: 100%;overflow: auto;}#sk-container-id-14 input.sk-toggleable__control:checked~label.sk-toggleable__label-arrow:before {content: \"▾\";}#sk-container-id-14 div.sk-estimator input.sk-toggleable__control:checked~label.sk-toggleable__label {background-color: #d4ebff;}#sk-container-id-14 div.sk-label input.sk-toggleable__control:checked~label.sk-toggleable__label {background-color: #d4ebff;}#sk-container-id-14 input.sk-hidden--visually {border: 0;clip: rect(1px 1px 1px 1px);clip: rect(1px, 1px, 1px, 1px);height: 1px;margin: -1px;overflow: hidden;padding: 0;position: absolute;width: 1px;}#sk-container-id-14 div.sk-estimator {font-family: monospace;background-color: #f0f8ff;border: 1px dotted black;border-radius: 0.25em;box-sizing: border-box;margin-bottom: 0.5em;}#sk-container-id-14 div.sk-estimator:hover {background-color: #d4ebff;}#sk-container-id-14 div.sk-parallel-item::after {content: \"\";width: 100%;border-bottom: 1px solid gray;flex-grow: 1;}#sk-container-id-14 div.sk-label:hover label.sk-toggleable__label {background-color: #d4ebff;}#sk-container-id-14 div.sk-serial::before {content: \"\";position: absolute;border-left: 1px solid gray;box-sizing: border-box;top: 0;bottom: 0;left: 50%;z-index: 0;}#sk-container-id-14 div.sk-serial {display: flex;flex-direction: column;align-items: center;background-color: white;padding-right: 0.2em;padding-left: 0.2em;position: relative;}#sk-container-id-14 div.sk-item {position: relative;z-index: 1;}#sk-container-id-14 div.sk-parallel {display: flex;align-items: stretch;justify-content: center;background-color: white;position: relative;}#sk-container-id-14 div.sk-item::before, #sk-container-id-14 div.sk-parallel-item::before {content: \"\";position: absolute;border-left: 1px solid gray;box-sizing: border-box;top: 0;bottom: 0;left: 50%;z-index: -1;}#sk-container-id-14 div.sk-parallel-item {display: flex;flex-direction: column;z-index: 1;position: relative;background-color: white;}#sk-container-id-14 div.sk-parallel-item:first-child::after {align-self: flex-end;width: 50%;}#sk-container-id-14 div.sk-parallel-item:last-child::after {align-self: flex-start;width: 50%;}#sk-container-id-14 div.sk-parallel-item:only-child::after {width: 0;}#sk-container-id-14 div.sk-dashed-wrapped {border: 1px dashed gray;margin: 0 0.4em 0.5em 0.4em;box-sizing: border-box;padding-bottom: 0.4em;background-color: white;}#sk-container-id-14 div.sk-label label {font-family: monospace;font-weight: bold;display: inline-block;line-height: 1.2em;}#sk-container-id-14 div.sk-label-container {text-align: center;}#sk-container-id-14 div.sk-container {/* jupyter's `normalize.less` sets `[hidden] { display: none; }` but bootstrap.min.css set `[hidden] { display: none !important; }` so we also need the `!important` here to be able to override the default hidden behavior on the sphinx rendered scikit-learn.org. See: https://github.com/scikit-learn/scikit-learn/issues/21755 */display: inline-block !important;position: relative;}#sk-container-id-14 div.sk-text-repr-fallback {display: none;}</style><div id=\"sk-container-id-14\" class=\"sk-top-container\"><div class=\"sk-text-repr-fallback\"><pre>RandomForestClassifier(random_state=42)</pre><b>In a Jupyter environment, please rerun this cell to show the HTML representation or trust the notebook. <br />On GitHub, the HTML representation is unable to render, please try loading this page with nbviewer.org.</b></div><div class=\"sk-container\" hidden><div class=\"sk-item\"><div class=\"sk-estimator sk-toggleable\"><input class=\"sk-toggleable__control sk-hidden--visually\" id=\"sk-estimator-id-18\" type=\"checkbox\" checked><label for=\"sk-estimator-id-18\" class=\"sk-toggleable__label sk-toggleable__label-arrow\">RandomForestClassifier</label><div class=\"sk-toggleable__content\"><pre>RandomForestClassifier(random_state=42)</pre></div></div></div></div></div>"
      ],
      "text/plain": [
       "RandomForestClassifier(random_state=42)"
      ]
     },
     "execution_count": 199,
     "metadata": {},
     "output_type": "execute_result"
    }
   ],
   "source": [
    "# Fit the training datasets into the rf_default model\n",
    "rf_default.fit(X_train, y_train.values.ravel())"
   ]
  },
  {
   "cell_type": "code",
   "execution_count": 201,
   "id": "46fe3e49-d2e4-44c3-ab51-cfe955daed6b",
   "metadata": {
    "tags": []
   },
   "outputs": [
    {
     "data": {
      "text/plain": [
       "['../models/rf.joblib']"
      ]
     },
     "execution_count": 201,
     "metadata": {},
     "output_type": "execute_result"
    }
   ],
   "source": [
    "# Save the fitted model into the folder models as a file called dtree\n",
    "dump(rf_default,  '../models/rf.joblib')"
   ]
  },
  {
   "cell_type": "markdown",
   "id": "52b280ae-470a-4b88-a682-737e8d12c352",
   "metadata": {},
   "source": [
    "# 3. Model Evaluation"
   ]
  },
  {
   "cell_type": "code",
   "execution_count": 202,
   "id": "d1ac9bb1-7004-49b4-9b22-258aec7187cc",
   "metadata": {},
   "outputs": [],
   "source": [
    "# Prediction probability on the training, validation and testing datasets\n",
    "preds_proba_train = rf_default.predict_proba(X_train) \n",
    "preds_proba_val = rf_default.predict_proba(X_val) \n",
    "preds_proba_test = rf_default.predict_proba(X_test)"
   ]
  },
  {
   "cell_type": "code",
   "execution_count": 203,
   "id": "9ba7b533-204f-4921-ba7d-17770d7bd96b",
   "metadata": {},
   "outputs": [],
   "source": [
    "# Keep the prediction probabilities for the drafted variable\n",
    "preds_proba_train = preds_proba_train[:, 1]\n",
    "preds_proba_val = preds_proba_val[:, 1]\n",
    "preds_proba_test = preds_proba_test[:, 1]"
   ]
  },
  {
   "cell_type": "code",
   "execution_count": 205,
   "id": "f4bfbf4a-51b9-4c86-bc49-9afc1c7c5271",
   "metadata": {},
   "outputs": [],
   "source": [
    "# Import the roc_auc_score from scikit-learn to evaluate the model performance\n",
    "from sklearn.metrics import roc_curve, roc_auc_score"
   ]
  },
  {
   "cell_type": "code",
   "execution_count": 206,
   "id": "955ce709-67b5-4793-998d-7c370e5d3d6b",
   "metadata": {
    "tags": []
   },
   "outputs": [
    {
     "data": {
      "text/plain": [
       "1.0"
      ]
     },
     "execution_count": 206,
     "metadata": {},
     "output_type": "execute_result"
    }
   ],
   "source": [
    "# Calculate the AUROC score of the training dataset\n",
    "reg_auc_train = roc_auc_score(y_train, preds_proba_train)\n",
    "reg_auc_train"
   ]
  },
  {
   "cell_type": "code",
   "execution_count": 207,
   "id": "f04047e3-2758-49dc-8e44-31391a9f93d2",
   "metadata": {},
   "outputs": [
    {
     "data": {
      "text/plain": [
       "0.9998734307453669"
      ]
     },
     "execution_count": 207,
     "metadata": {},
     "output_type": "execute_result"
    }
   ],
   "source": [
    "# Calculate the AUROC score of the validation dataset\n",
    "reg_auc_val = roc_auc_score(y_val, preds_proba_val)\n",
    "reg_auc_val"
   ]
  },
  {
   "cell_type": "markdown",
   "id": "31b173dc-fc2b-4284-b75a-d963878fa357",
   "metadata": {},
   "source": [
    "As the AUROC scores on training and validation datasets suggest, we can see that there is overfitting issue with the Random Forest Classification model with default hyperparameters. Hence we will try hyperparameter tuning to see if it can solve the overfitting problem."
   ]
  },
  {
   "cell_type": "markdown",
   "id": "937cf7fd-b271-4c7b-aacc-19996a595c35",
   "metadata": {},
   "source": [
    "# 4. Hyperparameter Tuning"
   ]
  },
  {
   "cell_type": "markdown",
   "id": "999e99db-f754-4baa-9a64-81bba2b513b7",
   "metadata": {},
   "source": [
    "## 4.1. n_estimators"
   ]
  },
  {
   "cell_type": "code",
   "execution_count": 214,
   "id": "cb38eccc-8441-47f3-bedd-44c566c30c4d",
   "metadata": {
    "tags": []
   },
   "outputs": [],
   "source": [
    "# Instantiate the RandomForestClassifier method with randon_state=42, n_estimators=90. Save it as a variable called rf_2. Fit the training datasets into the rf_2 model\n",
    "rf_2 = RandomForestClassifier(random_state=42, n_estimators=90).fit(X_train, y_train.values.ravel())\n",
    "\n",
    "# Save the predictions of training and validation datasets into 2 variables called y_train_preds and y_val_preds\n",
    "preds_proba_train_2 = rf_2.predict_proba(X_train)[:, 1]\n",
    "preds_proba_val_2 = rf_2.predict_proba(X_val)[:, 1] \n",
    "preds_proba_test_2 = rf_2.predict_proba(X_test)[:, 1]"
   ]
  },
  {
   "cell_type": "code",
   "execution_count": 215,
   "id": "d37992b2-dd6e-4f92-90e2-fa0807f576fc",
   "metadata": {
    "tags": []
   },
   "outputs": [
    {
     "data": {
      "text/plain": [
       "1.0"
      ]
     },
     "execution_count": 215,
     "metadata": {},
     "output_type": "execute_result"
    }
   ],
   "source": [
    "# Calculate the AUROC score of the training dataset\n",
    "reg_auc_train_2 = roc_auc_score(y_train, preds_proba_train_2)\n",
    "reg_auc_train_2"
   ]
  },
  {
   "cell_type": "code",
   "execution_count": 216,
   "id": "1d245737-7f47-4cc1-af25-d25583b44a09",
   "metadata": {
    "tags": []
   },
   "outputs": [
    {
     "data": {
      "text/plain": [
       "0.999869927420505"
      ]
     },
     "execution_count": 216,
     "metadata": {},
     "output_type": "execute_result"
    }
   ],
   "source": [
    "# Calculate the AUROC score of the validation dataset\n",
    "reg_auc_val_2 = roc_auc_score(y_val, preds_proba_val_2)\n",
    "reg_auc_val_2"
   ]
  },
  {
   "cell_type": "markdown",
   "id": "f5821de3-bc27-4946-bd9c-bf7d3c85084e",
   "metadata": {},
   "source": [
    "## 4.2. n_estimators, max_depth"
   ]
  },
  {
   "cell_type": "code",
   "execution_count": 217,
   "id": "f4ec7d12-d891-407b-9afb-2d44cd9e2b8b",
   "metadata": {
    "tags": []
   },
   "outputs": [],
   "source": [
    "# Instantiate the RandomForestClassifier method with randon_state=42, n_estimators=90, max_depth=30. Save it as a variable called rf_4. Fit the training datasets into the rf_4\n",
    "rf_3 = RandomForestClassifier(random_state=42, n_estimators=90, max_depth=30).fit(X_train, y_train.values.ravel())\n",
    "\n",
    "# Save the predictions of training and validation datasets into 2 variables called y_train_preds and y_val_preds\n",
    "preds_proba_train_3 = rf_3.predict_proba(X_train)[:, 1]\n",
    "preds_proba_val_3 = rf_3.predict_proba(X_val)[:, 1] \n",
    "preds_proba_test_3 = rf_3.predict_proba(X_test)[:, 1]"
   ]
  },
  {
   "cell_type": "code",
   "execution_count": 218,
   "id": "fc48ca4a-e59c-4f05-8b38-f49bb89bf80f",
   "metadata": {
    "tags": []
   },
   "outputs": [
    {
     "data": {
      "text/plain": [
       "0.9999965275615045"
      ]
     },
     "execution_count": 218,
     "metadata": {},
     "output_type": "execute_result"
    }
   ],
   "source": [
    "# Calculate the AUROC score of the training dataset\n",
    "reg_auc_train_3 = roc_auc_score(y_train, preds_proba_train_3)\n",
    "reg_auc_train_3"
   ]
  },
  {
   "cell_type": "code",
   "execution_count": 219,
   "id": "4924b0d2-d2f7-4da8-b540-df7575077e6d",
   "metadata": {
    "tags": []
   },
   "outputs": [
    {
     "data": {
      "text/plain": [
       "0.9996575246817134"
      ]
     },
     "execution_count": 219,
     "metadata": {},
     "output_type": "execute_result"
    }
   ],
   "source": [
    "# Calculate the AUROC score of the validation dataset\n",
    "reg_auc_val_3 = roc_auc_score(y_val, preds_proba_val_3)\n",
    "reg_auc_val_3"
   ]
  },
  {
   "cell_type": "code",
   "execution_count": 220,
   "id": "b1718449-01e4-44b3-9d77-f5a8cfc05d2b",
   "metadata": {
    "tags": []
   },
   "outputs": [],
   "source": [
    "# Instantiate the RandomForestClassifier method with randon_state=42, n_estimators=90, max_depth=18. Save it as a variable called rf_5. Fit the training datasets into the rf_5\n",
    "rf_4 = RandomForestClassifier(random_state=42, n_estimators=90, max_depth=18).fit(X_train, y_train.values.ravel())\n",
    "\n",
    "# Save the predictions of training and validation datasets into 2 variables called y_train_preds and y_val_preds\n",
    "preds_proba_train_4 = rf_4.predict_proba(X_train)[:, 1]\n",
    "preds_proba_val_4 = rf_4.predict_proba(X_val)[:, 1] \n",
    "preds_proba_test_4 = rf_4.predict_proba(X_test)[:, 1]"
   ]
  },
  {
   "cell_type": "code",
   "execution_count": 221,
   "id": "c8fa37d8-52fe-4174-9525-de6306b3ba7d",
   "metadata": {
    "tags": []
   },
   "outputs": [
    {
     "data": {
      "text/plain": [
       "0.9994360241472875"
      ]
     },
     "execution_count": 221,
     "metadata": {},
     "output_type": "execute_result"
    }
   ],
   "source": [
    "# Calculate the AUROC score of the training dataset\n",
    "reg_auc_train_4 = roc_auc_score(y_train, preds_proba_train_4)\n",
    "reg_auc_train_4"
   ]
  },
  {
   "cell_type": "code",
   "execution_count": 222,
   "id": "641f160d-25a8-4a9d-b862-a4db6f4e4954",
   "metadata": {
    "tags": []
   },
   "outputs": [
    {
     "data": {
      "text/plain": [
       "0.9987519901315267"
      ]
     },
     "execution_count": 222,
     "metadata": {},
     "output_type": "execute_result"
    }
   ],
   "source": [
    "# Calculate the AUROC score of the validation dataset\n",
    "reg_auc_val_4 = roc_auc_score(y_val, preds_proba_val_4)\n",
    "reg_auc_val_4"
   ]
  },
  {
   "cell_type": "markdown",
   "id": "099616b0-d5c8-4380-9401-8790b6eb3ffb",
   "metadata": {},
   "source": [
    "## 4.3. n_estimators, max_depth, min_samples_leaf"
   ]
  },
  {
   "cell_type": "code",
   "execution_count": 223,
   "id": "171bb059-feae-4383-9b46-1381b98b698a",
   "metadata": {
    "tags": []
   },
   "outputs": [],
   "source": [
    "# Instantiate the RandomForestClassifier method with randon_state=42, n_estimators=90, max_depth=18, min_samples_leaf=2. Save it as a variable called rf_6. Fit the training datasets into the rf_6\n",
    "rf_5 = RandomForestClassifier(random_state=42, n_estimators=90, max_depth=18, min_samples_leaf=2).fit(X_train, y_train.values.ravel())\n",
    "\n",
    "# Save the predictions of training and validation datasets into 2 variables called y_train_preds and y_val_preds\n",
    "preds_proba_train_5 = rf_5.predict_proba(X_train)[:, 1]\n",
    "preds_proba_val_5 = rf_5.predict_proba(X_val)[:, 1] \n",
    "preds_proba_test_5 = rf_5.predict_proba(X_test)[:, 1]"
   ]
  },
  {
   "cell_type": "code",
   "execution_count": 224,
   "id": "ed0c43ac-79d6-4333-8a35-f5f54b5cd54c",
   "metadata": {
    "tags": []
   },
   "outputs": [
    {
     "data": {
      "text/plain": [
       "0.9995628033374554"
      ]
     },
     "execution_count": 224,
     "metadata": {},
     "output_type": "execute_result"
    }
   ],
   "source": [
    "# Calculate the AUROC score of the training dataset\n",
    "reg_auc_train_5 = roc_auc_score(y_train, preds_proba_train_5)\n",
    "reg_auc_train_5"
   ]
  },
  {
   "cell_type": "code",
   "execution_count": 225,
   "id": "0010f4f7-7080-45d2-8381-bc7d8c02351f",
   "metadata": {
    "tags": []
   },
   "outputs": [
    {
     "data": {
      "text/plain": [
       "0.9988653520539349"
      ]
     },
     "execution_count": 225,
     "metadata": {},
     "output_type": "execute_result"
    }
   ],
   "source": [
    "# Calculate the AUROC score of the validation dataset\n",
    "reg_auc_val_5 = roc_auc_score(y_val, preds_proba_val_5)\n",
    "reg_auc_val_5"
   ]
  },
  {
   "cell_type": "markdown",
   "id": "36df32dd-6db8-4954-aa33-e0d6c6999ac2",
   "metadata": {},
   "source": [
    "## 4.4. n_estimators, max_depth, min_samples_leaf, max_features"
   ]
  },
  {
   "cell_type": "code",
   "execution_count": 229,
   "id": "dec0b1f4-a8a5-424e-a1a3-500d56eb417a",
   "metadata": {
    "tags": []
   },
   "outputs": [],
   "source": [
    "# Instantiate the RandomForestClassifier method with randon_state=42, n_estimators=90, max_depth=18, min_samples_leaf=6, max_features=12. Save it as a variable called rf_8. Fit the training datasets into the rf_8\n",
    "rf_6 = RandomForestClassifier(random_state=42, n_estimators=90, max_depth=18, min_samples_leaf=6, max_features=12).fit(X_train, y_train.values.ravel())\n",
    "\n",
    "# Save the predictions of training and validation datasets into 2 variables called y_train_preds and y_val_preds\n",
    "preds_proba_train_6 = rf_6.predict_proba(X_train)[:, 1]\n",
    "preds_proba_val_6 = rf_6.predict_proba(X_val)[:, 1] \n",
    "preds_proba_test_6 = rf_6.predict_proba(X_test)[:, 1]"
   ]
  },
  {
   "cell_type": "code",
   "execution_count": 230,
   "id": "19079209-bf22-4a7a-85c8-ef85a79b55df",
   "metadata": {
    "tags": []
   },
   "outputs": [
    {
     "data": {
      "text/plain": [
       "0.9991857853148767"
      ]
     },
     "execution_count": 230,
     "metadata": {},
     "output_type": "execute_result"
    }
   ],
   "source": [
    "# Calculate the AUROC score of the training dataset\n",
    "reg_auc_train_6 = roc_auc_score(y_train, preds_proba_train_6)\n",
    "reg_auc_train_6"
   ]
  },
  {
   "cell_type": "code",
   "execution_count": 231,
   "id": "d4e5d7ec-8ca5-42eb-9e4e-e83a08fe1bc8",
   "metadata": {
    "tags": []
   },
   "outputs": [
    {
     "data": {
      "text/plain": [
       "0.9983015638064566"
      ]
     },
     "execution_count": 231,
     "metadata": {},
     "output_type": "execute_result"
    }
   ],
   "source": [
    "# Calculate the AUROC score of the validation dataset\n",
    "reg_auc_val_6 = roc_auc_score(y_val, preds_proba_val_6)\n",
    "reg_auc_val_6"
   ]
  },
  {
   "cell_type": "markdown",
   "id": "7383b435-2358-4101-aa65-37f0ff3cd774",
   "metadata": {
    "tags": []
   },
   "source": [
    "Model rf_3 has the lowest overfitting difference; therefore, it could be considered to be the best model in this experiment. We will demonstrate the AUC Curve visually."
   ]
  },
  {
   "cell_type": "code",
   "execution_count": 232,
   "id": "435a1828-ccee-4105-ac2b-274366e9940c",
   "metadata": {},
   "outputs": [
    {
     "name": "stdout",
     "output_type": "stream",
     "text": [
      "Requirement already satisfied: matplotlib in c:\\users\\this\\appdata\\local\\pypoetry\\cache\\virtualenvs\\adv-mla-at1-dk-cnldi-py3.9\\lib\\site-packages (3.7.2)\n",
      "Requirement already satisfied: pyparsing<3.1,>=2.3.1 in c:\\users\\this\\appdata\\local\\pypoetry\\cache\\virtualenvs\\adv-mla-at1-dk-cnldi-py3.9\\lib\\site-packages (from matplotlib) (3.0.9)\n",
      "Requirement already satisfied: kiwisolver>=1.0.1 in c:\\users\\this\\appdata\\local\\pypoetry\\cache\\virtualenvs\\adv-mla-at1-dk-cnldi-py3.9\\lib\\site-packages (from matplotlib) (1.4.4)\n",
      "Requirement already satisfied: importlib-resources>=3.2.0 in c:\\users\\this\\appdata\\local\\pypoetry\\cache\\virtualenvs\\adv-mla-at1-dk-cnldi-py3.9\\lib\\site-packages (from matplotlib) (6.0.1)\n",
      "Requirement already satisfied: packaging>=20.0 in c:\\users\\this\\appdata\\local\\pypoetry\\cache\\virtualenvs\\adv-mla-at1-dk-cnldi-py3.9\\lib\\site-packages (from matplotlib) (23.1)\n",
      "Requirement already satisfied: fonttools>=4.22.0 in c:\\users\\this\\appdata\\local\\pypoetry\\cache\\virtualenvs\\adv-mla-at1-dk-cnldi-py3.9\\lib\\site-packages (from matplotlib) (4.42.0)\n",
      "Requirement already satisfied: pillow>=6.2.0 in c:\\users\\this\\appdata\\local\\pypoetry\\cache\\virtualenvs\\adv-mla-at1-dk-cnldi-py3.9\\lib\\site-packages (from matplotlib) (10.0.0)\n",
      "Requirement already satisfied: contourpy>=1.0.1 in c:\\users\\this\\appdata\\local\\pypoetry\\cache\\virtualenvs\\adv-mla-at1-dk-cnldi-py3.9\\lib\\site-packages (from matplotlib) (1.1.0)\n",
      "Requirement already satisfied: cycler>=0.10 in c:\\users\\this\\appdata\\local\\pypoetry\\cache\\virtualenvs\\adv-mla-at1-dk-cnldi-py3.9\\lib\\site-packages (from matplotlib) (0.11.0)\n",
      "Requirement already satisfied: numpy>=1.20 in c:\\users\\this\\appdata\\local\\pypoetry\\cache\\virtualenvs\\adv-mla-at1-dk-cnldi-py3.9\\lib\\site-packages (from matplotlib) (1.25.2)\n",
      "Requirement already satisfied: python-dateutil>=2.7 in c:\\users\\this\\appdata\\local\\pypoetry\\cache\\virtualenvs\\adv-mla-at1-dk-cnldi-py3.9\\lib\\site-packages (from matplotlib) (2.8.2)\n",
      "Requirement already satisfied: zipp>=3.1.0 in c:\\users\\this\\appdata\\local\\pypoetry\\cache\\virtualenvs\\adv-mla-at1-dk-cnldi-py3.9\\lib\\site-packages (from importlib-resources>=3.2.0->matplotlib) (3.16.2)\n",
      "Requirement already satisfied: six>=1.5 in c:\\users\\this\\appdata\\local\\pypoetry\\cache\\virtualenvs\\adv-mla-at1-dk-cnldi-py3.9\\lib\\site-packages (from python-dateutil>=2.7->matplotlib) (1.16.0)\n",
      "Note: you may need to restart the kernel to use updated packages.\n"
     ]
    }
   ],
   "source": [
    "pip install matplotlib"
   ]
  },
  {
   "cell_type": "code",
   "execution_count": 233,
   "id": "82b21d66-d9b7-4fd6-9f97-be8bc988ce7c",
   "metadata": {
    "tags": []
   },
   "outputs": [
    {
     "data": {
      "image/png": "[encoded data removed]",
      "text/plain": [
       "<Figure size 640x480 with 1 Axes>"
      ]
     },
     "metadata": {},
     "output_type": "display_data"
    }
   ],
   "source": [
    "# Plot the AUC Curve on training dataset\n",
    "from sklearn import metrics\n",
    "import matplotlib.pyplot as plt\n",
    "fpr, tpr, _ = metrics.roc_curve(y_train,  preds_proba_train_3)\n",
    "\n",
    "plt.plot(fpr,tpr,label=\"auc=\"+str(reg_auc_train_3))\n",
    "plt.legend(loc=4)\n",
    "plt.title(\"AUC Curve of Training Dataset\")\n",
    "plt.show()"
   ]
  },
  {
   "cell_type": "code",
   "execution_count": 234,
   "id": "d4b06010-852f-47df-9ac9-e1d22c05e1b6",
   "metadata": {
    "tags": []
   },
   "outputs": [
    {
     "data": {
      "image/png": "[encoded data removed]",
      "text/plain": [
       "<Figure size 640x480 with 1 Axes>"
      ]
     },
     "metadata": {},
     "output_type": "display_data"
    }
   ],
   "source": [
    "# Plot the AUC Curve on validation dataset\n",
    "fpr, tpr, _ = metrics.roc_curve(y_val,  preds_proba_val_3)\n",
    "\n",
    "plt.plot(fpr,tpr,label=\"auc=\"+str(reg_auc_val_3))\n",
    "plt.legend(loc=4)\n",
    "plt.title(\"AUC Curve of Validation Dataset\")\n",
    "plt.show()"
   ]
  },
  {
   "cell_type": "markdown",
   "id": "5ba0e379-bdc1-4684-9e96-34e5e7c4784a",
   "metadata": {},
   "source": [
    "# 5. Export Submission File"
   ]
  },
  {
   "cell_type": "code",
   "execution_count": 235,
   "id": "d3b4aab3-18b5-43aa-bf1d-a71acca8292d",
   "metadata": {
    "tags": []
   },
   "outputs": [],
   "source": [
    "# Open the testing dataset and save as df_test_cleaned\n",
    "df_test_cleaned = pd.read_csv('../data/raw/advmla-2023-spring/test.csv')"
   ]
  },
  {
   "cell_type": "code",
   "execution_count": 236,
   "id": "cdd9c3e9-9376-4d76-98d2-df5d0c522417",
   "metadata": {
    "tags": []
   },
   "outputs": [],
   "source": [
    "# Split the column player_id from the df_test_cleaned and save as a variable called player_id\n",
    "player_id = df_test_cleaned.pop('player_id')"
   ]
  },
  {
   "cell_type": "code",
   "execution_count": 241,
   "id": "bb2c69ae-0a41-483b-90c0-c5f85f4147eb",
   "metadata": {
    "tags": []
   },
   "outputs": [
    {
     "data": {
      "text/html": [
       "<div>\n",
       "<style scoped>\n",
       "    .dataframe tbody tr th:only-of-type {\n",
       "        vertical-align: middle;\n",
       "    }\n",
       "\n",
       "    .dataframe tbody tr th {\n",
       "        vertical-align: top;\n",
       "    }\n",
       "\n",
       "    .dataframe thead th {\n",
       "        text-align: right;\n",
       "    }\n",
       "</style>\n",
       "<table border=\"1\" class=\"dataframe\">\n",
       "  <thead>\n",
       "    <tr style=\"text-align: right;\">\n",
       "      <th></th>\n",
       "      <th>player_id</th>\n",
       "      <th>drafted</th>\n",
       "    </tr>\n",
       "  </thead>\n",
       "  <tbody>\n",
       "    <tr>\n",
       "      <th>0</th>\n",
       "      <td>cf302b4d-84f7-4124-a25d-a75eed31978b</td>\n",
       "      <td>0.144444</td>\n",
       "    </tr>\n",
       "    <tr>\n",
       "      <th>1</th>\n",
       "      <td>f91837cd-4f49-4b70-963d-aeb82c6ce3da</td>\n",
       "      <td>0.133333</td>\n",
       "    </tr>\n",
       "    <tr>\n",
       "      <th>2</th>\n",
       "      <td>53ec2a29-1e7d-4c6d-86d7-d60d02af8916</td>\n",
       "      <td>0.255556</td>\n",
       "    </tr>\n",
       "    <tr>\n",
       "      <th>3</th>\n",
       "      <td>32402798-471c-4a54-8cb4-29cd95199014</td>\n",
       "      <td>0.111111</td>\n",
       "    </tr>\n",
       "    <tr>\n",
       "      <th>4</th>\n",
       "      <td>73b960f9-27b8-4431-9d23-a760e9bbc360</td>\n",
       "      <td>0.411111</td>\n",
       "    </tr>\n",
       "    <tr>\n",
       "      <th>...</th>\n",
       "      <td>...</td>\n",
       "      <td>...</td>\n",
       "    </tr>\n",
       "    <tr>\n",
       "      <th>4965</th>\n",
       "      <td>a25ee55f-02a3-4f8e-8194-a5f427e14e7c</td>\n",
       "      <td>0.266667</td>\n",
       "    </tr>\n",
       "    <tr>\n",
       "      <th>4966</th>\n",
       "      <td>d0d9f45e-7b01-44b3-8d40-514ec338611d</td>\n",
       "      <td>0.022222</td>\n",
       "    </tr>\n",
       "    <tr>\n",
       "      <th>4967</th>\n",
       "      <td>f8df22c4-1602-4fab-896d-8820951aae2f</td>\n",
       "      <td>0.111111</td>\n",
       "    </tr>\n",
       "    <tr>\n",
       "      <th>4968</th>\n",
       "      <td>b791c69a-f769-4163-afda-051a6fd20a9d</td>\n",
       "      <td>0.122222</td>\n",
       "    </tr>\n",
       "    <tr>\n",
       "      <th>4969</th>\n",
       "      <td>18b51f5d-4746-4121-88fd-c8d0a1399130</td>\n",
       "      <td>0.244444</td>\n",
       "    </tr>\n",
       "  </tbody>\n",
       "</table>\n",
       "<p>4970 rows × 2 columns</p>\n",
       "</div>"
      ],
      "text/plain": [
       "                                 player_id   drafted\n",
       "0     cf302b4d-84f7-4124-a25d-a75eed31978b  0.144444\n",
       "1     f91837cd-4f49-4b70-963d-aeb82c6ce3da  0.133333\n",
       "2     53ec2a29-1e7d-4c6d-86d7-d60d02af8916  0.255556\n",
       "3     32402798-471c-4a54-8cb4-29cd95199014  0.111111\n",
       "4     73b960f9-27b8-4431-9d23-a760e9bbc360  0.411111\n",
       "...                                    ...       ...\n",
       "4965  a25ee55f-02a3-4f8e-8194-a5f427e14e7c  0.266667\n",
       "4966  d0d9f45e-7b01-44b3-8d40-514ec338611d  0.022222\n",
       "4967  f8df22c4-1602-4fab-896d-8820951aae2f  0.111111\n",
       "4968  b791c69a-f769-4163-afda-051a6fd20a9d  0.122222\n",
       "4969  18b51f5d-4746-4121-88fd-c8d0a1399130  0.244444\n",
       "\n",
       "[4970 rows x 2 columns]"
      ]
     },
     "execution_count": 241,
     "metadata": {},
     "output_type": "execute_result"
    }
   ],
   "source": [
    "# Create a dataframe containing 2 columns: player_id and preds_proba_test. Save as submission\n",
    "submission = pd.DataFrame({'player_id': player_id, 'drafted': list(preds_proba_test_3)})\n",
    "submission"
   ]
  },
  {
   "cell_type": "code",
   "execution_count": 242,
   "id": "e8fea4ae-1df8-443c-92f4-a2ff082d3637",
   "metadata": {
    "tags": []
   },
   "outputs": [],
   "source": [
    "# Save the submission dataframe to the `notebook` folder as a csv file\n",
    "submission.to_csv('../reports/submission_wk3.csv', index=False)"
   ]
  }
 ],
 "metadata": {
  "kernelspec": {
   "display_name": "Python 3 (ipykernel)",
   "language": "python",
   "name": "python3"
  },
  "language_info": {
   "codemirror_mode": {
    "name": "ipython",
    "version": 3
   },
   "file_extension": ".py",
   "mimetype": "text/x-python",
   "name": "python",
   "nbconvert_exporter": "python",
   "pygments_lexer": "ipython3",
   "version": "3.9.13"
  }
 },
 "nbformat": 4,
 "nbformat_minor": 5
}
